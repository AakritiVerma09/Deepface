{
  "nbformat": 4,
  "nbformat_minor": 0,
  "metadata": {
    "colab": {
      "provenance": []
    },
    "kernelspec": {
      "name": "python3",
      "display_name": "Python 3"
    },
    "language_info": {
      "name": "python"
    }
  },
  "cells": [
    {
      "cell_type": "code",
      "source": [
        "pip install deepface"
      ],
      "metadata": {
        "colab": {
          "base_uri": "https://localhost:8080/"
        },
        "id": "baKb6Db-Mm9b",
        "outputId": "1448dfb6-300e-4e16-9537-cb7052b10c16"
      },
      "execution_count": null,
      "outputs": [
        {
          "output_type": "stream",
          "name": "stdout",
          "text": [
            "Collecting deepface\n",
            "  Downloading deepface-0.0.93-py3-none-any.whl.metadata (30 kB)\n",
            "Requirement already satisfied: requests>=2.27.1 in /usr/local/lib/python3.10/dist-packages (from deepface) (2.32.3)\n",
            "Requirement already satisfied: numpy>=1.14.0 in /usr/local/lib/python3.10/dist-packages (from deepface) (1.26.4)\n",
            "Requirement already satisfied: pandas>=0.23.4 in /usr/local/lib/python3.10/dist-packages (from deepface) (2.1.4)\n",
            "Requirement already satisfied: gdown>=3.10.1 in /usr/local/lib/python3.10/dist-packages (from deepface) (5.1.0)\n",
            "Requirement already satisfied: tqdm>=4.30.0 in /usr/local/lib/python3.10/dist-packages (from deepface) (4.66.5)\n",
            "Requirement already satisfied: Pillow>=5.2.0 in /usr/local/lib/python3.10/dist-packages (from deepface) (10.4.0)\n",
            "Requirement already satisfied: opencv-python>=4.5.5.64 in /usr/local/lib/python3.10/dist-packages (from deepface) (4.10.0.84)\n",
            "Requirement already satisfied: tensorflow>=1.9.0 in /usr/local/lib/python3.10/dist-packages (from deepface) (2.17.0)\n",
            "Requirement already satisfied: keras>=2.2.0 in /usr/local/lib/python3.10/dist-packages (from deepface) (3.4.1)\n",
            "Requirement already satisfied: Flask>=1.1.2 in /usr/local/lib/python3.10/dist-packages (from deepface) (2.2.5)\n",
            "Collecting flask-cors>=4.0.1 (from deepface)\n",
            "  Downloading Flask_Cors-5.0.0-py2.py3-none-any.whl.metadata (5.5 kB)\n",
            "Collecting mtcnn>=0.1.0 (from deepface)\n",
            "  Downloading mtcnn-0.1.1-py3-none-any.whl.metadata (5.8 kB)\n",
            "Collecting retina-face>=0.0.1 (from deepface)\n",
            "  Downloading retina_face-0.0.17-py3-none-any.whl.metadata (10 kB)\n",
            "Collecting fire>=0.4.0 (from deepface)\n",
            "  Downloading fire-0.6.0.tar.gz (88 kB)\n",
            "\u001b[2K     \u001b[90m━━━━━━━━━━━━━━━━━━━━━━━━━━━━━━━━━━━━━━━━\u001b[0m \u001b[32m88.4/88.4 kB\u001b[0m \u001b[31m3.5 MB/s\u001b[0m eta \u001b[36m0:00:00\u001b[0m\n",
            "\u001b[?25h  Preparing metadata (setup.py) ... \u001b[?25l\u001b[?25hdone\n",
            "Collecting gunicorn>=20.1.0 (from deepface)\n",
            "  Downloading gunicorn-23.0.0-py3-none-any.whl.metadata (4.4 kB)\n",
            "Requirement already satisfied: six in /usr/local/lib/python3.10/dist-packages (from fire>=0.4.0->deepface) (1.16.0)\n",
            "Requirement already satisfied: termcolor in /usr/local/lib/python3.10/dist-packages (from fire>=0.4.0->deepface) (2.4.0)\n",
            "Requirement already satisfied: Werkzeug>=2.2.2 in /usr/local/lib/python3.10/dist-packages (from Flask>=1.1.2->deepface) (3.0.4)\n",
            "Requirement already satisfied: Jinja2>=3.0 in /usr/local/lib/python3.10/dist-packages (from Flask>=1.1.2->deepface) (3.1.4)\n",
            "Requirement already satisfied: itsdangerous>=2.0 in /usr/local/lib/python3.10/dist-packages (from Flask>=1.1.2->deepface) (2.2.0)\n",
            "Requirement already satisfied: click>=8.0 in /usr/local/lib/python3.10/dist-packages (from Flask>=1.1.2->deepface) (8.1.7)\n",
            "Requirement already satisfied: beautifulsoup4 in /usr/local/lib/python3.10/dist-packages (from gdown>=3.10.1->deepface) (4.12.3)\n",
            "Requirement already satisfied: filelock in /usr/local/lib/python3.10/dist-packages (from gdown>=3.10.1->deepface) (3.16.1)\n",
            "Requirement already satisfied: packaging in /usr/local/lib/python3.10/dist-packages (from gunicorn>=20.1.0->deepface) (24.1)\n",
            "Requirement already satisfied: absl-py in /usr/local/lib/python3.10/dist-packages (from keras>=2.2.0->deepface) (1.4.0)\n",
            "Requirement already satisfied: rich in /usr/local/lib/python3.10/dist-packages (from keras>=2.2.0->deepface) (13.8.1)\n",
            "Requirement already satisfied: namex in /usr/local/lib/python3.10/dist-packages (from keras>=2.2.0->deepface) (0.0.8)\n",
            "Requirement already satisfied: h5py in /usr/local/lib/python3.10/dist-packages (from keras>=2.2.0->deepface) (3.11.0)\n",
            "Requirement already satisfied: optree in /usr/local/lib/python3.10/dist-packages (from keras>=2.2.0->deepface) (0.12.1)\n",
            "Requirement already satisfied: ml-dtypes in /usr/local/lib/python3.10/dist-packages (from keras>=2.2.0->deepface) (0.4.1)\n",
            "Requirement already satisfied: python-dateutil>=2.8.2 in /usr/local/lib/python3.10/dist-packages (from pandas>=0.23.4->deepface) (2.8.2)\n",
            "Requirement already satisfied: pytz>=2020.1 in /usr/local/lib/python3.10/dist-packages (from pandas>=0.23.4->deepface) (2024.2)\n",
            "Requirement already satisfied: tzdata>=2022.1 in /usr/local/lib/python3.10/dist-packages (from pandas>=0.23.4->deepface) (2024.1)\n",
            "Requirement already satisfied: charset-normalizer<4,>=2 in /usr/local/lib/python3.10/dist-packages (from requests>=2.27.1->deepface) (3.3.2)\n",
            "Requirement already satisfied: idna<4,>=2.5 in /usr/local/lib/python3.10/dist-packages (from requests>=2.27.1->deepface) (3.10)\n",
            "Requirement already satisfied: urllib3<3,>=1.21.1 in /usr/local/lib/python3.10/dist-packages (from requests>=2.27.1->deepface) (2.0.7)\n",
            "Requirement already satisfied: certifi>=2017.4.17 in /usr/local/lib/python3.10/dist-packages (from requests>=2.27.1->deepface) (2024.8.30)\n",
            "Requirement already satisfied: astunparse>=1.6.0 in /usr/local/lib/python3.10/dist-packages (from tensorflow>=1.9.0->deepface) (1.6.3)\n",
            "Requirement already satisfied: flatbuffers>=24.3.25 in /usr/local/lib/python3.10/dist-packages (from tensorflow>=1.9.0->deepface) (24.3.25)\n",
            "Requirement already satisfied: gast!=0.5.0,!=0.5.1,!=0.5.2,>=0.2.1 in /usr/local/lib/python3.10/dist-packages (from tensorflow>=1.9.0->deepface) (0.6.0)\n",
            "Requirement already satisfied: google-pasta>=0.1.1 in /usr/local/lib/python3.10/dist-packages (from tensorflow>=1.9.0->deepface) (0.2.0)\n",
            "Requirement already satisfied: libclang>=13.0.0 in /usr/local/lib/python3.10/dist-packages (from tensorflow>=1.9.0->deepface) (18.1.1)\n",
            "Requirement already satisfied: opt-einsum>=2.3.2 in /usr/local/lib/python3.10/dist-packages (from tensorflow>=1.9.0->deepface) (3.3.0)\n",
            "Requirement already satisfied: protobuf!=4.21.0,!=4.21.1,!=4.21.2,!=4.21.3,!=4.21.4,!=4.21.5,<5.0.0dev,>=3.20.3 in /usr/local/lib/python3.10/dist-packages (from tensorflow>=1.9.0->deepface) (3.20.3)\n",
            "Requirement already satisfied: setuptools in /usr/local/lib/python3.10/dist-packages (from tensorflow>=1.9.0->deepface) (71.0.4)\n",
            "Requirement already satisfied: typing-extensions>=3.6.6 in /usr/local/lib/python3.10/dist-packages (from tensorflow>=1.9.0->deepface) (4.12.2)\n",
            "Requirement already satisfied: wrapt>=1.11.0 in /usr/local/lib/python3.10/dist-packages (from tensorflow>=1.9.0->deepface) (1.16.0)\n",
            "Requirement already satisfied: grpcio<2.0,>=1.24.3 in /usr/local/lib/python3.10/dist-packages (from tensorflow>=1.9.0->deepface) (1.64.1)\n",
            "Requirement already satisfied: tensorboard<2.18,>=2.17 in /usr/local/lib/python3.10/dist-packages (from tensorflow>=1.9.0->deepface) (2.17.0)\n",
            "Requirement already satisfied: tensorflow-io-gcs-filesystem>=0.23.1 in /usr/local/lib/python3.10/dist-packages (from tensorflow>=1.9.0->deepface) (0.37.1)\n",
            "Requirement already satisfied: wheel<1.0,>=0.23.0 in /usr/local/lib/python3.10/dist-packages (from astunparse>=1.6.0->tensorflow>=1.9.0->deepface) (0.44.0)\n",
            "Requirement already satisfied: MarkupSafe>=2.0 in /usr/local/lib/python3.10/dist-packages (from Jinja2>=3.0->Flask>=1.1.2->deepface) (2.1.5)\n",
            "Requirement already satisfied: markdown>=2.6.8 in /usr/local/lib/python3.10/dist-packages (from tensorboard<2.18,>=2.17->tensorflow>=1.9.0->deepface) (3.7)\n",
            "Requirement already satisfied: tensorboard-data-server<0.8.0,>=0.7.0 in /usr/local/lib/python3.10/dist-packages (from tensorboard<2.18,>=2.17->tensorflow>=1.9.0->deepface) (0.7.2)\n",
            "Requirement already satisfied: soupsieve>1.2 in /usr/local/lib/python3.10/dist-packages (from beautifulsoup4->gdown>=3.10.1->deepface) (2.6)\n",
            "Requirement already satisfied: PySocks!=1.5.7,>=1.5.6 in /usr/local/lib/python3.10/dist-packages (from requests[socks]->gdown>=3.10.1->deepface) (1.7.1)\n",
            "Requirement already satisfied: markdown-it-py>=2.2.0 in /usr/local/lib/python3.10/dist-packages (from rich->keras>=2.2.0->deepface) (3.0.0)\n",
            "Requirement already satisfied: pygments<3.0.0,>=2.13.0 in /usr/local/lib/python3.10/dist-packages (from rich->keras>=2.2.0->deepface) (2.18.0)\n",
            "Requirement already satisfied: mdurl~=0.1 in /usr/local/lib/python3.10/dist-packages (from markdown-it-py>=2.2.0->rich->keras>=2.2.0->deepface) (0.1.2)\n",
            "Downloading deepface-0.0.93-py3-none-any.whl (108 kB)\n",
            "\u001b[2K   \u001b[90m━━━━━━━━━━━━━━━━━━━━━━━━━━━━━━━━━━━━━━━━\u001b[0m \u001b[32m108.6/108.6 kB\u001b[0m \u001b[31m6.7 MB/s\u001b[0m eta \u001b[36m0:00:00\u001b[0m\n",
            "\u001b[?25hDownloading Flask_Cors-5.0.0-py2.py3-none-any.whl (14 kB)\n",
            "Downloading gunicorn-23.0.0-py3-none-any.whl (85 kB)\n",
            "\u001b[2K   \u001b[90m━━━━━━━━━━━━━━━━━━━━━━━━━━━━━━━━━━━━━━━━\u001b[0m \u001b[32m85.0/85.0 kB\u001b[0m \u001b[31m5.3 MB/s\u001b[0m eta \u001b[36m0:00:00\u001b[0m\n",
            "\u001b[?25hDownloading mtcnn-0.1.1-py3-none-any.whl (2.3 MB)\n",
            "\u001b[2K   \u001b[90m━━━━━━━━━━━━━━━━━━━━━━━━━━━━━━━━━━━━━━━━\u001b[0m \u001b[32m2.3/2.3 MB\u001b[0m \u001b[31m36.5 MB/s\u001b[0m eta \u001b[36m0:00:00\u001b[0m\n",
            "\u001b[?25hDownloading retina_face-0.0.17-py3-none-any.whl (25 kB)\n",
            "Building wheels for collected packages: fire\n",
            "  Building wheel for fire (setup.py) ... \u001b[?25l\u001b[?25hdone\n",
            "  Created wheel for fire: filename=fire-0.6.0-py2.py3-none-any.whl size=117030 sha256=1432b88119e8b888f7d11889f8f02ee25d38a29e5414ce63266774887cf4ffea\n",
            "  Stored in directory: /root/.cache/pip/wheels/d6/6d/5d/5b73fa0f46d01a793713f8859201361e9e581ced8c75e5c6a3\n",
            "Successfully built fire\n",
            "Installing collected packages: gunicorn, fire, flask-cors, mtcnn, retina-face, deepface\n",
            "Successfully installed deepface-0.0.93 fire-0.6.0 flask-cors-5.0.0 gunicorn-23.0.0 mtcnn-0.1.1 retina-face-0.0.17\n"
          ]
        }
      ]
    },
    {
      "cell_type": "code",
      "execution_count": null,
      "metadata": {
        "colab": {
          "base_uri": "https://localhost:8080/"
        },
        "id": "4VyjapkyMb2o",
        "outputId": "02767eb0-b6aa-44c6-d2d3-13afd6012b0a"
      },
      "outputs": [
        {
          "output_type": "stream",
          "name": "stdout",
          "text": [
            "24-09-22 05:34:50 - Directory /root/.deepface has been created\n",
            "24-09-22 05:34:50 - Directory /root/.deepface/weights has been created\n"
          ]
        }
      ],
      "source": [
        "from deepface import DeepFace\n",
        "import cv2"
      ]
    },
    {
      "cell_type": "code",
      "source": [
        "from google.colab import files\n",
        "uploaded = files.upload()"
      ],
      "metadata": {
        "colab": {
          "base_uri": "https://localhost:8080/",
          "height": 73
        },
        "id": "YHkM98w6OfVv",
        "outputId": "cf98104e-cc5f-4353-c4d2-699ff1554bf9"
      },
      "execution_count": null,
      "outputs": [
        {
          "output_type": "display_data",
          "data": {
            "text/plain": [
              "<IPython.core.display.HTML object>"
            ],
            "text/html": [
              "\n",
              "     <input type=\"file\" id=\"files-0c51a4cb-a9ac-4d46-a6b8-216500f0de41\" name=\"files[]\" multiple disabled\n",
              "        style=\"border:none\" />\n",
              "     <output id=\"result-0c51a4cb-a9ac-4d46-a6b8-216500f0de41\">\n",
              "      Upload widget is only available when the cell has been executed in the\n",
              "      current browser session. Please rerun this cell to enable.\n",
              "      </output>\n",
              "      <script>// Copyright 2017 Google LLC\n",
              "//\n",
              "// Licensed under the Apache License, Version 2.0 (the \"License\");\n",
              "// you may not use this file except in compliance with the License.\n",
              "// You may obtain a copy of the License at\n",
              "//\n",
              "//      http://www.apache.org/licenses/LICENSE-2.0\n",
              "//\n",
              "// Unless required by applicable law or agreed to in writing, software\n",
              "// distributed under the License is distributed on an \"AS IS\" BASIS,\n",
              "// WITHOUT WARRANTIES OR CONDITIONS OF ANY KIND, either express or implied.\n",
              "// See the License for the specific language governing permissions and\n",
              "// limitations under the License.\n",
              "\n",
              "/**\n",
              " * @fileoverview Helpers for google.colab Python module.\n",
              " */\n",
              "(function(scope) {\n",
              "function span(text, styleAttributes = {}) {\n",
              "  const element = document.createElement('span');\n",
              "  element.textContent = text;\n",
              "  for (const key of Object.keys(styleAttributes)) {\n",
              "    element.style[key] = styleAttributes[key];\n",
              "  }\n",
              "  return element;\n",
              "}\n",
              "\n",
              "// Max number of bytes which will be uploaded at a time.\n",
              "const MAX_PAYLOAD_SIZE = 100 * 1024;\n",
              "\n",
              "function _uploadFiles(inputId, outputId) {\n",
              "  const steps = uploadFilesStep(inputId, outputId);\n",
              "  const outputElement = document.getElementById(outputId);\n",
              "  // Cache steps on the outputElement to make it available for the next call\n",
              "  // to uploadFilesContinue from Python.\n",
              "  outputElement.steps = steps;\n",
              "\n",
              "  return _uploadFilesContinue(outputId);\n",
              "}\n",
              "\n",
              "// This is roughly an async generator (not supported in the browser yet),\n",
              "// where there are multiple asynchronous steps and the Python side is going\n",
              "// to poll for completion of each step.\n",
              "// This uses a Promise to block the python side on completion of each step,\n",
              "// then passes the result of the previous step as the input to the next step.\n",
              "function _uploadFilesContinue(outputId) {\n",
              "  const outputElement = document.getElementById(outputId);\n",
              "  const steps = outputElement.steps;\n",
              "\n",
              "  const next = steps.next(outputElement.lastPromiseValue);\n",
              "  return Promise.resolve(next.value.promise).then((value) => {\n",
              "    // Cache the last promise value to make it available to the next\n",
              "    // step of the generator.\n",
              "    outputElement.lastPromiseValue = value;\n",
              "    return next.value.response;\n",
              "  });\n",
              "}\n",
              "\n",
              "/**\n",
              " * Generator function which is called between each async step of the upload\n",
              " * process.\n",
              " * @param {string} inputId Element ID of the input file picker element.\n",
              " * @param {string} outputId Element ID of the output display.\n",
              " * @return {!Iterable<!Object>} Iterable of next steps.\n",
              " */\n",
              "function* uploadFilesStep(inputId, outputId) {\n",
              "  const inputElement = document.getElementById(inputId);\n",
              "  inputElement.disabled = false;\n",
              "\n",
              "  const outputElement = document.getElementById(outputId);\n",
              "  outputElement.innerHTML = '';\n",
              "\n",
              "  const pickedPromise = new Promise((resolve) => {\n",
              "    inputElement.addEventListener('change', (e) => {\n",
              "      resolve(e.target.files);\n",
              "    });\n",
              "  });\n",
              "\n",
              "  const cancel = document.createElement('button');\n",
              "  inputElement.parentElement.appendChild(cancel);\n",
              "  cancel.textContent = 'Cancel upload';\n",
              "  const cancelPromise = new Promise((resolve) => {\n",
              "    cancel.onclick = () => {\n",
              "      resolve(null);\n",
              "    };\n",
              "  });\n",
              "\n",
              "  // Wait for the user to pick the files.\n",
              "  const files = yield {\n",
              "    promise: Promise.race([pickedPromise, cancelPromise]),\n",
              "    response: {\n",
              "      action: 'starting',\n",
              "    }\n",
              "  };\n",
              "\n",
              "  cancel.remove();\n",
              "\n",
              "  // Disable the input element since further picks are not allowed.\n",
              "  inputElement.disabled = true;\n",
              "\n",
              "  if (!files) {\n",
              "    return {\n",
              "      response: {\n",
              "        action: 'complete',\n",
              "      }\n",
              "    };\n",
              "  }\n",
              "\n",
              "  for (const file of files) {\n",
              "    const li = document.createElement('li');\n",
              "    li.append(span(file.name, {fontWeight: 'bold'}));\n",
              "    li.append(span(\n",
              "        `(${file.type || 'n/a'}) - ${file.size} bytes, ` +\n",
              "        `last modified: ${\n",
              "            file.lastModifiedDate ? file.lastModifiedDate.toLocaleDateString() :\n",
              "                                    'n/a'} - `));\n",
              "    const percent = span('0% done');\n",
              "    li.appendChild(percent);\n",
              "\n",
              "    outputElement.appendChild(li);\n",
              "\n",
              "    const fileDataPromise = new Promise((resolve) => {\n",
              "      const reader = new FileReader();\n",
              "      reader.onload = (e) => {\n",
              "        resolve(e.target.result);\n",
              "      };\n",
              "      reader.readAsArrayBuffer(file);\n",
              "    });\n",
              "    // Wait for the data to be ready.\n",
              "    let fileData = yield {\n",
              "      promise: fileDataPromise,\n",
              "      response: {\n",
              "        action: 'continue',\n",
              "      }\n",
              "    };\n",
              "\n",
              "    // Use a chunked sending to avoid message size limits. See b/62115660.\n",
              "    let position = 0;\n",
              "    do {\n",
              "      const length = Math.min(fileData.byteLength - position, MAX_PAYLOAD_SIZE);\n",
              "      const chunk = new Uint8Array(fileData, position, length);\n",
              "      position += length;\n",
              "\n",
              "      const base64 = btoa(String.fromCharCode.apply(null, chunk));\n",
              "      yield {\n",
              "        response: {\n",
              "          action: 'append',\n",
              "          file: file.name,\n",
              "          data: base64,\n",
              "        },\n",
              "      };\n",
              "\n",
              "      let percentDone = fileData.byteLength === 0 ?\n",
              "          100 :\n",
              "          Math.round((position / fileData.byteLength) * 100);\n",
              "      percent.textContent = `${percentDone}% done`;\n",
              "\n",
              "    } while (position < fileData.byteLength);\n",
              "  }\n",
              "\n",
              "  // All done.\n",
              "  yield {\n",
              "    response: {\n",
              "      action: 'complete',\n",
              "    }\n",
              "  };\n",
              "}\n",
              "\n",
              "scope.google = scope.google || {};\n",
              "scope.google.colab = scope.google.colab || {};\n",
              "scope.google.colab._files = {\n",
              "  _uploadFiles,\n",
              "  _uploadFilesContinue,\n",
              "};\n",
              "})(self);\n",
              "</script> "
            ]
          },
          "metadata": {}
        },
        {
          "output_type": "stream",
          "name": "stdout",
          "text": [
            "Saving beautiful-girl-with-autumn-leaves-photo.jpg to beautiful-girl-with-autumn-leaves-photo.jpg\n"
          ]
        }
      ]
    },
    {
      "cell_type": "code",
      "source": [
        "check_img = cv2.imread('beautiful-girl-with-autumn-leaves-photo.jpg')"
      ],
      "metadata": {
        "id": "q6JexoCKOfHb"
      },
      "execution_count": null,
      "outputs": []
    },
    {
      "cell_type": "code",
      "source": [
        "analyze_face = DeepFace.analyze(check_img)"
      ],
      "metadata": {
        "colab": {
          "base_uri": "https://localhost:8080/"
        },
        "id": "AfMXgmHZQSjZ",
        "outputId": "5dd70e3d-931b-43c2-9b94-de862600a46e"
      },
      "execution_count": null,
      "outputs": [
        {
          "output_type": "stream",
          "name": "stderr",
          "text": [
            "Action: emotion:   0%|          | 0/4 [00:00<?, ?it/s]"
          ]
        },
        {
          "output_type": "stream",
          "name": "stdout",
          "text": [
            "24-09-22 05:43:48 - facial_expression_model_weights.h5 will be downloaded...\n"
          ]
        },
        {
          "output_type": "stream",
          "name": "stderr",
          "text": [
            "Downloading...\n",
            "From: https://github.com/serengil/deepface_models/releases/download/v1.0/facial_expression_model_weights.h5\n",
            "To: /root/.deepface/weights/facial_expression_model_weights.h5\n",
            "\n",
            "100%|██████████| 5.98M/5.98M [00:00<00:00, 64.0MB/s]\n",
            "Action: age:  25%|██▌       | 1/4 [00:00<00:02,  1.15it/s]    "
          ]
        },
        {
          "output_type": "stream",
          "name": "stdout",
          "text": [
            "24-09-22 05:43:52 - age_model_weights.h5 will be downloaded...\n"
          ]
        },
        {
          "output_type": "stream",
          "name": "stderr",
          "text": [
            "Downloading...\n",
            "From: https://github.com/serengil/deepface_models/releases/download/v1.0/age_model_weights.h5\n",
            "To: /root/.deepface/weights/age_model_weights.h5\n",
            "\n",
            "  0%|          | 0.00/539M [00:00<?, ?B/s]\u001b[A\n",
            "  2%|▏         | 9.96M/539M [00:00<00:05, 98.2MB/s]\u001b[A\n",
            "  7%|▋         | 36.2M/539M [00:00<00:02, 193MB/s] \u001b[A\n",
            " 12%|█▏        | 64.0M/539M [00:00<00:02, 230MB/s]\u001b[A\n",
            " 17%|█▋        | 90.7M/539M [00:00<00:01, 243MB/s]\u001b[A\n",
            " 21%|██▏       | 115M/539M [00:00<00:02, 203MB/s] \u001b[A\n",
            " 26%|██▌       | 141M/539M [00:00<00:01, 213MB/s]\u001b[A\n",
            " 30%|███       | 163M/539M [00:00<00:02, 179MB/s]\u001b[A\n",
            " 34%|███▍      | 182M/539M [00:00<00:01, 182MB/s]\u001b[A\n",
            " 38%|███▊      | 206M/539M [00:01<00:01, 196MB/s]\u001b[A\n",
            " 42%|████▏     | 227M/539M [00:01<00:01, 199MB/s]\u001b[A\n",
            " 47%|████▋     | 252M/539M [00:01<00:01, 211MB/s]\u001b[A\n",
            " 51%|█████     | 275M/539M [00:01<00:01, 216MB/s]\u001b[A\n",
            " 55%|█████▌    | 297M/539M [00:01<00:01, 192MB/s]\u001b[A\n",
            " 59%|█████▉    | 317M/539M [00:01<00:01, 156MB/s]\u001b[A\n",
            " 62%|██████▏   | 336M/539M [00:01<00:01, 161MB/s]\u001b[A\n",
            " 66%|██████▌   | 354M/539M [00:01<00:01, 167MB/s]\u001b[A\n",
            " 69%|██████▉   | 372M/539M [00:02<00:01, 165MB/s]\u001b[A\n",
            " 73%|███████▎  | 393M/539M [00:02<00:00, 176MB/s]\u001b[A\n",
            " 77%|███████▋  | 416M/539M [00:02<00:00, 192MB/s]\u001b[A\n",
            " 81%|████████  | 436M/539M [00:02<00:00, 189MB/s]\u001b[A\n",
            " 85%|████████▌ | 458M/539M [00:02<00:00, 197MB/s]\u001b[A\n",
            " 89%|████████▉ | 479M/539M [00:02<00:00, 191MB/s]\u001b[A\n",
            " 92%|█████████▏| 498M/539M [00:02<00:00, 183MB/s]\u001b[A\n",
            "100%|██████████| 539M/539M [00:02<00:00, 187MB/s]\n",
            "Action: gender:  50%|█████     | 2/4 [00:10<00:11,  5.75s/it]"
          ]
        },
        {
          "output_type": "stream",
          "name": "stdout",
          "text": [
            "24-09-22 05:43:59 - gender_model_weights.h5 will be downloaded...\n"
          ]
        },
        {
          "output_type": "stream",
          "name": "stderr",
          "text": [
            "Downloading...\n",
            "From: https://github.com/serengil/deepface_models/releases/download/v1.0/gender_model_weights.h5\n",
            "To: /root/.deepface/weights/gender_model_weights.h5\n",
            "\n",
            "  0%|          | 0.00/537M [00:00<?, ?B/s]\u001b[A\n",
            "  2%|▏         | 10.5M/537M [00:00<00:05, 105MB/s]\u001b[A\n",
            "  8%|▊         | 44.0M/537M [00:00<00:02, 239MB/s]\u001b[A\n",
            " 14%|█▍        | 73.9M/537M [00:00<00:01, 265MB/s]\u001b[A\n",
            " 19%|█▉        | 103M/537M [00:00<00:01, 274MB/s] \u001b[A\n",
            " 24%|██▍       | 131M/537M [00:00<00:01, 265MB/s]\u001b[A\n",
            " 29%|██▉       | 157M/537M [00:00<00:01, 262MB/s]\u001b[A\n",
            " 34%|███▍      | 184M/537M [00:00<00:01, 259MB/s]\u001b[A\n",
            " 39%|███▉      | 210M/537M [00:00<00:01, 255MB/s]\u001b[A\n",
            " 44%|████▍     | 236M/537M [00:00<00:01, 250MB/s]\u001b[A\n",
            " 49%|████▉     | 262M/537M [00:01<00:01, 253MB/s]\u001b[A\n",
            " 54%|█████▎    | 288M/537M [00:01<00:00, 254MB/s]\u001b[A\n",
            " 58%|█████▊    | 314M/537M [00:01<00:00, 254MB/s]\u001b[A\n",
            " 63%|██████▎   | 339M/537M [00:01<00:00, 242MB/s]\u001b[A\n",
            " 68%|██████▊   | 364M/537M [00:01<00:00, 244MB/s]\u001b[A\n",
            " 73%|███████▎  | 391M/537M [00:01<00:00, 248MB/s]\u001b[A\n",
            " 78%|███████▊  | 418M/537M [00:01<00:00, 255MB/s]\u001b[A\n",
            " 83%|████████▎ | 444M/537M [00:01<00:00, 250MB/s]\u001b[A\n",
            " 87%|████████▋ | 469M/537M [00:01<00:00, 245MB/s]\u001b[A\n",
            " 92%|█████████▏| 493M/537M [00:01<00:00, 245MB/s]\u001b[A\n",
            "100%|██████████| 537M/537M [00:02<00:00, 249MB/s]\n",
            "Action: race:  75%|███████▌  | 3/4 [00:16<00:05,  5.99s/it]  Downloading...\n",
            "From: https://github.com/serengil/deepface_models/releases/download/v1.0/race_model_single_batch.h5\n",
            "To: /root/.deepface/weights/race_model_single_batch.h5\n"
          ]
        },
        {
          "output_type": "stream",
          "name": "stdout",
          "text": [
            "24-09-22 05:44:07 - race_model_single_batch.h5 will be downloaded...\n"
          ]
        },
        {
          "output_type": "stream",
          "name": "stderr",
          "text": [
            "\n",
            "  0%|          | 0.00/537M [00:00<?, ?B/s]\u001b[A\n",
            "  2%|▏         | 8.91M/537M [00:00<00:05, 88.3MB/s]\u001b[A\n",
            "  7%|▋         | 35.7M/537M [00:00<00:02, 193MB/s] \u001b[A\n",
            " 11%|█         | 58.2M/537M [00:00<00:02, 203MB/s]\u001b[A\n",
            " 16%|█▌        | 86.5M/537M [00:00<00:01, 234MB/s]\u001b[A\n",
            " 21%|██        | 113M/537M [00:00<00:01, 243MB/s] \u001b[A\n",
            " 26%|██▌       | 137M/537M [00:00<00:01, 233MB/s]\u001b[A\n",
            " 30%|██▉       | 161M/537M [00:00<00:01, 232MB/s]\u001b[A\n",
            " 35%|███▍      | 188M/537M [00:00<00:01, 242MB/s]\u001b[A\n",
            " 40%|███▉      | 214M/537M [00:00<00:01, 247MB/s]\u001b[A\n",
            " 45%|████▍     | 240M/537M [00:01<00:01, 249MB/s]\u001b[A\n",
            " 49%|████▉     | 265M/537M [00:01<00:01, 250MB/s]\u001b[A\n",
            " 54%|█████▍    | 291M/537M [00:01<00:00, 252MB/s]\u001b[A\n",
            " 59%|█████▉    | 317M/537M [00:01<00:00, 250MB/s]\u001b[A\n",
            " 64%|██████▎   | 342M/537M [00:01<00:00, 245MB/s]\u001b[A\n",
            " 68%|██████▊   | 366M/537M [00:01<00:00, 243MB/s]\u001b[A\n",
            " 73%|███████▎  | 391M/537M [00:01<00:00, 224MB/s]\u001b[A\n",
            " 77%|███████▋  | 414M/537M [00:01<00:00, 225MB/s]\u001b[A\n",
            " 81%|████████▏ | 437M/537M [00:01<00:00, 213MB/s]\u001b[A\n",
            " 86%|████████▌ | 462M/537M [00:02<00:00, 222MB/s]\u001b[A\n",
            " 90%|█████████ | 484M/537M [00:02<00:00, 222MB/s]\u001b[A\n",
            " 95%|█████████▌| 513M/537M [00:02<00:00, 239MB/s]\u001b[A\n",
            "100%|██████████| 537M/537M [00:02<00:00, 186MB/s] \n",
            "Action: race: 100%|██████████| 4/4 [00:24<00:00,  6.09s/it]\n",
            "Action: race: 100%|██████████| 4/4 [00:01<00:00,  2.03it/s]\n"
          ]
        }
      ]
    },
    {
      "cell_type": "code",
      "source": [
        "analyze_face"
      ],
      "metadata": {
        "colab": {
          "base_uri": "https://localhost:8080/"
        },
        "id": "XfVdsTq7Qzuh",
        "outputId": "bc4aece9-f50f-4bf5-bf7c-7083e772dad2"
      },
      "execution_count": null,
      "outputs": [
        {
          "output_type": "execute_result",
          "data": {
            "text/plain": [
              "[{'emotion': {'angry': 0.04152216133661568,\n",
              "   'disgust': 4.891796301365048e-07,\n",
              "   'fear': 1.107974350452423,\n",
              "   'happy': 0.17641533631831408,\n",
              "   'sad': 2.4991456419229507,\n",
              "   'surprise': 0.00187579971679952,\n",
              "   'neutral': 96.17306590080261},\n",
              "  'dominant_emotion': 'neutral',\n",
              "  'region': {'x': 443,\n",
              "   'y': 150,\n",
              "   'w': 338,\n",
              "   'h': 338,\n",
              "   'left_eye': (682, 296),\n",
              "   'right_eye': (552, 267)},\n",
              "  'face_confidence': 0.92,\n",
              "  'age': 26,\n",
              "  'gender': {'Woman': 99.9996542930603, 'Man': 0.00034188769859611057},\n",
              "  'dominant_gender': 'Woman',\n",
              "  'race': {'asian': 0.13139610729119822,\n",
              "   'indian': 0.043598370082020464,\n",
              "   'black': 0.0029581593424754197,\n",
              "   'white': 92.59483174054812,\n",
              "   'middle eastern': 2.529846282592194,\n",
              "   'latino hispanic': 4.697371554218027},\n",
              "  'dominant_race': 'white'},\n",
              " {'emotion': {'angry': 0.0214821196862391,\n",
              "   'disgust': 6.669227485708475e-07,\n",
              "   'fear': 0.09212742509105204,\n",
              "   'happy': 0.0024091149355012814,\n",
              "   'sad': 99.85666872779504,\n",
              "   'surprise': 7.508202941389595e-07,\n",
              "   'neutral': 0.027305681961470013},\n",
              "  'dominant_emotion': 'sad',\n",
              "  'region': {'x': 1283,\n",
              "   'y': 194,\n",
              "   'w': 45,\n",
              "   'h': 56,\n",
              "   'left_eye': None,\n",
              "   'right_eye': None},\n",
              "  'face_confidence': 0.96,\n",
              "  'age': 30,\n",
              "  'gender': {'Woman': 37.825390696525574, 'Man': 62.17460632324219},\n",
              "  'dominant_gender': 'Man',\n",
              "  'race': {'asian': 3.398984670639038,\n",
              "   'indian': 2.3212630301713943,\n",
              "   'black': 0.7302419282495975,\n",
              "   'white': 65.5068039894104,\n",
              "   'middle eastern': 17.26022958755493,\n",
              "   'latino hispanic': 10.782476514577866},\n",
              "  'dominant_race': 'white'}]"
            ]
          },
          "metadata": {},
          "execution_count": 12
        }
      ]
    },
    {
      "cell_type": "code",
      "source": [],
      "metadata": {
        "id": "0YA-E4D-Q5bH"
      },
      "execution_count": null,
      "outputs": []
    },
    {
      "cell_type": "code",
      "source": [],
      "metadata": {
        "id": "cML_q8DSQ5Qs"
      },
      "execution_count": null,
      "outputs": []
    },
    {
      "cell_type": "code",
      "source": [],
      "metadata": {
        "id": "ItqUIU_GQ5H2"
      },
      "execution_count": null,
      "outputs": []
    },
    {
      "cell_type": "code",
      "source": [],
      "metadata": {
        "id": "ELmFTdDPQ49J"
      },
      "execution_count": null,
      "outputs": []
    }
  ]
}